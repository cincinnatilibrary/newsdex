{
 "cells": [
  {
   "cell_type": "code",
   "execution_count": 1,
   "id": "81689cd0-b114-4934-93d9-b2dd35fa2258",
   "metadata": {},
   "outputs": [
    {
     "name": "stdout",
     "output_type": "stream",
     "text": [
      "Requirement already satisfied: sqlalchemy in ./venv/lib/python3.10/site-packages (1.4.46)\n",
      "Requirement already satisfied: greenlet!=0.4.17 in ./venv/lib/python3.10/site-packages (from sqlalchemy) (2.0.1)\n"
     ]
    }
   ],
   "source": [
    "!pip install -U sqlalchemy"
   ]
  },
  {
   "cell_type": "code",
   "execution_count": 2,
   "id": "7fbfe117-f84d-4430-afb6-36f2a93e8597",
   "metadata": {},
   "outputs": [],
   "source": [
    "from sqlalchemy import Column\n",
    "from sqlalchemy import ForeignKey\n",
    "from sqlalchemy import Integer\n",
    "from sqlalchemy import String\n",
    "from sqlalchemy import JSON\n",
    "from sqlalchemy import Date\n",
    "from sqlalchemy.orm import declarative_base\n",
    "from sqlalchemy.orm import relationship\n",
    "from sqlalchemy import create_engine\n",
    "from sqlalchemy.orm import Session\n",
    "\n",
    "from pymarc import MARCReader\n",
    "import zipfile\n",
    "import json\n",
    "from datetime import datetime\n",
    "\n",
    "engine = create_engine('sqlite:///record_data.db')\n",
    "\n",
    "Base = declarative_base()\n",
    "\n",
    "class Record(Base):\n",
    "    __tablename__ = \"record\"\n",
    "\n",
    "    id = Column(Integer, primary_key=True)\n",
    "    \n",
    "    title = Column(String, nullable=True)\n",
    "\n",
    "    # 998 subfield a - \"Location\"\n",
    "    location = Column(String, nullable=True)\n",
    "    \n",
    "    # 998 subfield b - \"Cat. Date\"\n",
    "    cat_date = Column(Date, nullable=True)\n",
    "    \n",
    "    # 998 subfield c - \"Bib Level\"\n",
    "    bib_level = Column(String, nullable=True)\n",
    "    \n",
    "    # 998 subfield d - \"Format (MatType)\"\n",
    "    mat_type = Column(String, nullable=True)\n",
    "    \n",
    "    # 907 subfield c - \"Created\"\n",
    "    create_date = Column(Date, nullable=True)    \n",
    "    \n",
    "    # 907 subfield b - \"Last Updated\"\n",
    "    last_update = Column(Date, nullable=True)\n",
    "    \n",
    "    # (record['773']['a'], record['773']['g'])\n",
    "    pub_date = Column(Date, nullable=True)\n",
    "    citation = Column(String, nullable=True)\n",
    "        \n",
    "    # record_json = Column(JSON)\n",
    "    \n",
    "    # subjects = relationship(\n",
    "    #     \"Subject\", back_populates=\"record\", cascade=\"all, delete-orphan\"\n",
    "    # )\n",
    "\n",
    "    # def __repr__(self):\n",
    "    #     return f\"User(id={self.id!r}, name={self.name!r}, fullname={self.fullname!r})\"\n",
    "\n",
    "# class Subject(Base):\n",
    "#     __tablename__ = \"subject\"\n",
    "\n",
    "#     id = Column(Integer, primary_key=True)\n",
    "#     value = Column(String, nullable=False)\n",
    "#     occ_num = Column(Integer)\n",
    "#     record_id = Column(Integer, ForeignKey(\"record.id\"), nullable=False)\n",
    "\n",
    "#     record = relationship(\"Record\", back_populates=\"subjects\")\n",
    "\n",
    "#     # def __repr__(self):\n",
    "#     #     return f\"Address(id={self.id!r}, email_address={self.email_address!r})\"\n",
    "\n",
    "\n",
    "# # create the schema    \n",
    "Base.metadata.create_all(engine, )"
   ]
  },
  {
   "cell_type": "code",
   "execution_count": 3,
   "id": "fe4879c9-e42f-430c-bd8b-fbeaa1a224f8",
   "metadata": {},
   "outputs": [
    {
     "name": "stdout",
     "output_type": "stream",
     "text": [
      "0 .10000 .20000 .30000 .40000 .50000 .60000 .70000 .80000 .90000 .100000 .110000 .120000 .130000 .140000 .150000 .160000 .170000 .180000 .190000 .200000 .210000 .220000 .230000 .240000 .250000 .260000 .270000 .280000 .290000 .300000 .310000 .320000 .330000 .340000 .350000 .360000 .370000 .380000 .390000 .400000 .410000 .420000 .430000 .440000 .450000 .460000 .470000 .480000 .490000 .500000 .510000 .520000 .530000 .540000 .550000 .560000 .570000 .580000 .590000 .600000 .610000 .620000 .630000 .640000 .650000 .660000 .670000 .680000 .690000 .700000 .710000 .720000 .730000 .740000 .750000 .760000 .770000 .780000 .790000 .800000 .810000 .820000 .830000 .840000 .850000 .860000 .870000 .880000 .890000 .900000 .910000 .920000 .930000 .940000 .950000 .960000 .970000 .980000 .990000 .1000000 .1010000 .1020000 .1030000 .1040000 .1050000 .1060000 .1070000 .1080000 .1090000 .1100000 .1110000 .1120000 .1130000 .1140000 .1150000 .1160000 .1170000 .1180000 .1190000 .1200000 .1210000 .1220000 .1230000 .1240000 .1250000 .1260000 .1270000 .1280000 .1290000 .1300000 .1310000 .1320000 .1330000 .1340000 .1350000 .1360000 .1370000 .1380000 .1390000 .1400000 .1410000 .1420000 .1430000 .1440000 .1450000 .1460000 .1470000 .1480000 .1490000 .1500000 .1510000 .1520000 .1530000 .1540000 .1550000 .1560000 .1570000 .1580000 .1590000 .1600000 .1610000 .1620000 .1630000 .1640000 .1650000 .1660000 .1670000 .1680000 .1690000 .1700000 .1710000 .1720000 .1730000 .1740000 .1750000 .1760000 .1770000 .1780000 .1790000 .1800000 .1810000 .1820000 .1830000 .1840000 .1850000 .1860000 .1870000 .1880000 .1886383 ."
     ]
    }
   ],
   "source": [
    "with Session(engine) as session:\n",
    "    with zipfile.ZipFile('2023-01-24_newsdex-full-marc-export.zip') as marc_data_file:\n",
    "        with marc_data_file.open(marc_data_file.filelist[0]) as fh:\n",
    "            record_list = []\n",
    "            # was getting this error \n",
    "            # https://github.com/edsu/pymarc/issues/129\n",
    "            reader = MARCReader(fh, to_unicode=True, force_utf8=True)\n",
    "            for i, record in enumerate(reader):\n",
    "                # subjects = []\n",
    "                # for j, s in enumerate([subject.value() for subject in record.subjects()]):\n",
    "                #     subjects.append(Subject(value=s, occ_num=j))\n",
    "                \n",
    "                try:\n",
    "                    title=record.title()\n",
    "                except:\n",
    "                    title=None\n",
    "                \n",
    "                # 998 subfield a - \"Location\"\n",
    "                try:\n",
    "                    location=record['998']['a']\n",
    "                except:\n",
    "                    location=None\n",
    "\n",
    "                # 998 subfield b - \"Cat. Date\"\n",
    "                try:\n",
    "                    cat_date=datetime.strptime(record['998']['b'], '%m-%d-%y')\n",
    "                except:\n",
    "                    cat_date=None\n",
    "                    \n",
    "                # 907 subfield c - \"Created\"\n",
    "                try:\n",
    "                    create_date=datetime.strptime(record['907']['c'], '%m-%d-%y')\n",
    "                except:\n",
    "                    create_date=None\n",
    "\n",
    "                # 907 subfield b - \"Last Updated\"\n",
    "                try:\n",
    "                    last_update=datetime.strptime(record['907']['b'], '%m-%d-%y')\n",
    "                except:\n",
    "                    last_update=None\n",
    "\n",
    "                # 998 subfield c - \"Bib Level\"\n",
    "                try:\n",
    "                    bib_level=record['998']['c']\n",
    "                except:\n",
    "                    bib_level=None\n",
    "\n",
    "                # 998 subfield d - \"Format (MatType)\"\n",
    "                try:\n",
    "                    mat_type=record['998']['d']\n",
    "                except:\n",
    "                    mat_type=None\n",
    "\n",
    "                \n",
    "                \n",
    "                # 260$c - Date of publication, distribution, etc. (R)\n",
    "\n",
    "                # try:\n",
    "                #     record_json=json.loads(record.as_json())\n",
    "                # except:\n",
    "                #     record_json=None\n",
    "                \n",
    "                r = Record(\n",
    "                    title=title,\n",
    "                    location=location,\n",
    "                    cat_date=cat_date,\n",
    "                    create_date=create_date,\n",
    "                    last_update=last_update,\n",
    "                    bib_level=bib_level,\n",
    "                    mat_type=mat_type\n",
    "                    \n",
    "                    # record_json=record_json,\n",
    "                    # subjects=subjects\n",
    "                )\n",
    "                record_list.append(r)\n",
    "                \n",
    "                if (i % 10000 == 0):\n",
    "                    session.add_all(record_list)\n",
    "                    session.commit()\n",
    "                    del(record_list)\n",
    "                    record_list = []\n",
    "                    print(i, '.', end='')\n",
    "                    \n",
    "            session.add_all(record_list)\n",
    "            session.commit()\n",
    "            print(i, '.', end='')"
   ]
  },
  {
   "cell_type": "code",
   "execution_count": 4,
   "id": "f4f17ed2-52cf-4d5b-8245-0e1943afed9c",
   "metadata": {},
   "outputs": [
    {
     "name": "stdout",
     "output_type": "stream",
     "text": [
      "008                                         \n",
      "245 Public library staff: Instructive talks heard and a social hour enjoyed by employees\n",
      "260 1900\n",
      "650 Public Library\n",
      "650 Public Library, Personnel\n",
      "650 Hodges, Nathaniel Dana Carlisle\n",
      "773 Commercial Tribune 10/02/1900 6:6\n",
      "907 .b28911532 03-06-20 03-06-20\n",
      "998 2ma 03-06-20 m - - eng 0\n"
     ]
    }
   ],
   "source": [
    "for field in record.fields:\n",
    "    print(field.tag, field.value(), end=\"\\n\")\n",
    "    # print([(field.tag, field.value()) for field in record.fields], sep=\"\\n\")"
   ]
  },
  {
   "cell_type": "code",
   "execution_count": 5,
   "id": "9e25504c-a8f3-42d3-977b-35411345f253",
   "metadata": {},
   "outputs": [
    {
     "data": {
      "text/plain": [
       "['03-06-20']"
      ]
     },
     "execution_count": 5,
     "metadata": {},
     "output_type": "execute_result"
    }
   ],
   "source": [
    "record['907'].subfields_as_dict()['c']"
   ]
  },
  {
   "cell_type": "code",
   "execution_count": 6,
   "id": "f1946bb1-3d49-4cd3-8d7c-e0f07af5ee3d",
   "metadata": {},
   "outputs": [],
   "source": [
    "# [subfield for subfield in record['773'].get_subfields]"
   ]
  },
  {
   "cell_type": "code",
   "execution_count": 7,
   "id": "3a4d22f7-3b3d-4e70-a75c-3d6bfdf97d9c",
   "metadata": {},
   "outputs": [],
   "source": [
    "# with Session(engine) as session:\n",
    "#     with zipfile.ZipFile('2023-01-24_newsdex-full-marc-export.zip') as marc_data_file:\n",
    "#         # should only contain one file ...\n",
    "#         print(marc_data_file.filelist[0].filename)\n",
    "#         # get a file handle for the marc data file\n",
    "#         with marc_data_file.open(marc_data_file.filelist[0]) as fh:\n",
    "#             reader = MARCReader(fh)\n",
    "#             for i, record in enumerate(reader):\n",
    "#                 subjects = []\n",
    "#                 for j, s in enumerate([subject.value() for subject in record.subjects()]):\n",
    "#                     subjects.append(Subject(value=s, occ_num=j))\n",
    "#                 r = Record(\n",
    "#                     title=record.title(),\n",
    "#                     record_json=record.as_json(),\n",
    "#                     subjects=subjects\n",
    "#                 )\n",
    "\n",
    "#                 session.add(r)\n",
    "#                 if (i % 100000 == 0 ):\n",
    "#                     print(f'{i}.', end='')\n",
    "#                     session.commit()\n",
    "\n",
    "#                 # print(i, record['001'].value(), record.title(), [subject.value() for subject in record.subjects()])\n",
    "#                 # if i>=100:\n",
    "#                 #     break\n",
    "#     session.commit()"
   ]
  }
 ],
 "metadata": {
  "kernelspec": {
   "display_name": "Python 3 (ipykernel)",
   "language": "python",
   "name": "python3"
  },
  "language_info": {
   "codemirror_mode": {
    "name": "ipython",
    "version": 3
   },
   "file_extension": ".py",
   "mimetype": "text/x-python",
   "name": "python",
   "nbconvert_exporter": "python",
   "pygments_lexer": "ipython3",
   "version": "3.10.6"
  }
 },
 "nbformat": 4,
 "nbformat_minor": 5
}
