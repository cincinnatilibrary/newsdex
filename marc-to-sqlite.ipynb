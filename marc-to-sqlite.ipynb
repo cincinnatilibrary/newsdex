{
 "cells": [
  {
   "cell_type": "code",
   "execution_count": 1,
   "id": "81689cd0-b114-4934-93d9-b2dd35fa2258",
   "metadata": {},
   "outputs": [
    {
     "name": "stdout",
     "output_type": "stream",
     "text": [
      "Requirement already satisfied: sqlalchemy in ./venv/lib/python3.10/site-packages (2.0.1)\n",
      "Collecting sqlalchemy\n",
      "  Downloading SQLAlchemy-2.0.2-cp310-cp310-manylinux_2_17_x86_64.manylinux2014_x86_64.whl (2.7 MB)\n",
      "\u001b[2K     \u001b[38;2;114;156;31m━━━━━━━━━━━━━━━━━━━━━━━━━━━━━━━━━━━━━━━━\u001b[0m \u001b[32m2.7/2.7 MB\u001b[0m \u001b[31m15.2 MB/s\u001b[0m eta \u001b[36m0:00:00\u001b[0mm eta \u001b[36m0:00:01\u001b[0m0:01\u001b[0m01\u001b[0m\n",
      "\u001b[?25hRequirement already satisfied: typing-extensions>=4.2.0 in ./venv/lib/python3.10/site-packages (from sqlalchemy) (4.4.0)\n",
      "Requirement already satisfied: greenlet!=0.4.17 in ./venv/lib/python3.10/site-packages (from sqlalchemy) (2.0.1)\n",
      "Installing collected packages: sqlalchemy\n",
      "  Attempting uninstall: sqlalchemy\n",
      "    Found existing installation: SQLAlchemy 2.0.1\n",
      "    Uninstalling SQLAlchemy-2.0.1:\n",
      "      Successfully uninstalled SQLAlchemy-2.0.1\n",
      "Successfully installed sqlalchemy-2.0.2\n",
      "Requirement already satisfied: sqlite-utils in ./venv/lib/python3.10/site-packages (3.30)\n",
      "Requirement already satisfied: sqlite-fts4 in ./venv/lib/python3.10/site-packages (from sqlite-utils) (1.0.3)\n",
      "Requirement already satisfied: tabulate in ./venv/lib/python3.10/site-packages (from sqlite-utils) (0.9.0)\n",
      "Requirement already satisfied: python-dateutil in ./venv/lib/python3.10/site-packages (from sqlite-utils) (2.8.2)\n",
      "Requirement already satisfied: click-default-group-wheel in ./venv/lib/python3.10/site-packages (from sqlite-utils) (1.2.2)\n",
      "Requirement already satisfied: click in ./venv/lib/python3.10/site-packages (from sqlite-utils) (8.1.3)\n",
      "Requirement already satisfied: six>=1.5 in ./venv/lib/python3.10/site-packages (from python-dateutil->sqlite-utils) (1.16.0)\n"
     ]
    }
   ],
   "source": [
    "!pip install -U sqlalchemy\n",
    "!pip install -U sqlite-utils"
   ]
  },
  {
   "cell_type": "code",
   "execution_count": 2,
   "id": "d8e891ba-2351-470d-9e0c-03a3e9416fed",
   "metadata": {},
   "outputs": [],
   "source": [
    "# simple coalece function\n",
    "def coalesce4(*args):\n",
    "    for x in args:\n",
    "        if x is not None:\n",
    "            return x"
   ]
  },
  {
   "cell_type": "code",
   "execution_count": 2,
   "id": "7fbfe117-f84d-4430-afb6-36f2a93e8597",
   "metadata": {},
   "outputs": [],
   "source": [
    "from sqlalchemy import Column\n",
    "from sqlalchemy import ForeignKey\n",
    "from sqlalchemy import Integer\n",
    "from sqlalchemy import String\n",
    "from sqlalchemy import JSON\n",
    "from sqlalchemy import Date\n",
    "from sqlalchemy.orm import declarative_base\n",
    "from sqlalchemy.orm import relationship\n",
    "from sqlalchemy import create_engine\n",
    "from sqlalchemy.orm import Session\n",
    "from sqlalchemy import Text # the datatype\n",
    "from sqlalchemy import text # the function\n",
    "from sqlalchemy import LargeBinary\n",
    "\n",
    "import sqlite_utils\n",
    "\n",
    "from pymarc import MARCReader\n",
    "import zipfile\n",
    "import json\n",
    "from datetime import datetime\n",
    "\n",
    "engine = create_engine('sqlite:///record_data.db')\n",
    "\n",
    "Base = declarative_base()\n",
    "\n",
    "class Record(Base):\n",
    "    __tablename__ = \"record\"\n",
    "\n",
    "    id = Column(Integer, primary_key=True)\n",
    "    \n",
    "    title = Column(String, nullable=True)\n",
    "    \n",
    "    # 773 - Host Item Entry (R)\n",
    "    # $a - Main entry heading (NR)\n",
    "    # $g - Related parts (R)\n",
    "    # (record['773']['a'], record['773']['g'])\n",
    "    pub_date = Column(Date, nullable=True)\n",
    "    pub_name = Column(String, nullable=True)\n",
    "\n",
    "    # record['260']\n",
    "    pub_year = Column(String, nullable=True)\n",
    "    \n",
    "    citation = Column(String, nullable=True)\n",
    "    \n",
    "    # 998 subfield a - \"Location\"\n",
    "    location = Column(String, nullable=True)\n",
    "    \n",
    "    # # if we want to have a fully seperate table... \n",
    "    # # ... don't forget to uncomment the class for it below\n",
    "    # subjects = relationship(\n",
    "    #     \"Subject\", back_populates=\"record\", cascade=\"all, delete-orphan\"\n",
    "    # )\n",
    "    \n",
    "    subjects = Column(JSON, nullable=True)\n",
    "    \n",
    "    # 998 subfield b - \"Cat. Date\"\n",
    "    cat_date = Column(Date, nullable=True)\n",
    "    \n",
    "    # 998 subfield c - \"Bib Level\"\n",
    "    bib_level = Column(String, nullable=True)\n",
    "    \n",
    "    # 998 subfield d - \"Format (MatType)\"\n",
    "    mat_type = Column(String, nullable=True)\n",
    "    \n",
    "    # 907 subfield c - \"Created\"\n",
    "    create_date = Column(Date, nullable=True)    \n",
    "    \n",
    "    # 907 subfield b - \"Last Updated\"\n",
    "    last_update = Column(Date, nullable=True)\n",
    "    \n",
    "    marc_data = relationship(\n",
    "        \"MarcData\", back_populates=\"record\", cascade=\"all, delete-orphan\"\n",
    "    )\n",
    "    \n",
    "    \n",
    "# class Subject(Base):\n",
    "#     __tablename__ = \"subject\"\n",
    "\n",
    "#     id = Column(Integer, primary_key=True)\n",
    "#     value = Column(String, nullable=False)\n",
    "#     occ_num = Column(Integer)\n",
    "#     record_id = Column(Integer, ForeignKey(\"record.id\"), nullable=False)\n",
    "\n",
    "#     record = relationship(\"Record\", back_populates=\"subjects\")\n",
    "\n",
    "class MarcData(Base):\n",
    "    __tablename__ = \"marc_data\"\n",
    "    # def __repr__(self):\n",
    "    #     return f\"Address(id={self.id!r}, email_address={self.email_address!r})\"\n",
    "    id = Column(Integer, primary_key=True)\n",
    "    record_id = Column(Integer, ForeignKey(\"record.id\"), nullable=False)\n",
    "    \n",
    "    marc_in_json = Column(JSON, nullable=True)\n",
    "    marc_in_text = Column(Text, nullable=True)\n",
    "    marc_in_binary = Column(LargeBinary, nullable=True)\n",
    "    \n",
    "    record = relationship(\"Record\", back_populates=\"marc_data\")\n",
    "\n",
    "# # create the schema    \n",
    "Base.metadata.create_all(engine)"
   ]
  },
  {
   "cell_type": "code",
   "execution_count": 4,
   "id": "fe4879c9-e42f-430c-bd8b-fbeaa1a224f8",
   "metadata": {},
   "outputs": [
    {
     "name": "stdout",
     "output_type": "stream",
     "text": [
      "50000 .100000 .150000 .200000 .250000 .300000 .350000 .400000 .450000 .500000 .550000 .600000 .650000 .700000 .750000 .800000 .850000 .900000 .950000 .1000000 .1050000 .1100000 .1150000 .1200000 .1250000 .1300000 .1350000 .1400000 .1450000 .1500000 .1550000 .1600000 .1650000 .1700000 .1750000 .1800000 .1850000 .1886383 ."
     ]
    }
   ],
   "source": [
    "with Session(engine) as session:\n",
    "    with zipfile.ZipFile('2023-01-24_newsdex-full-marc-export.zip') as marc_data_file:\n",
    "        with marc_data_file.open(marc_data_file.filelist[0]) as fh:\n",
    "            record_list = []\n",
    "            # was getting this error \n",
    "            # https://github.com/edsu/pymarc/issues/129\n",
    "            reader = MARCReader(fh, to_unicode=True, force_utf8=True)\n",
    "            for i, record in enumerate(reader):\n",
    "                try:\n",
    "                    subjects=[]\n",
    "                    for j, s in enumerate([subject.value() for subject in record.subjects()]):\n",
    "                        # subjects.append(Subject(value=s, occ_num=j))\n",
    "                        subjects.append(s)\n",
    "                except:\n",
    "                    subjects=[]\n",
    "                \n",
    "                try:\n",
    "                    title=record.title()\n",
    "                except:\n",
    "                    title=None\n",
    "                \n",
    "                # 998 subfield a - \"Location\"\n",
    "                try:\n",
    "                    location=record['998']['a'].format()\n",
    "                except:\n",
    "                    location=None\n",
    "\n",
    "                # 998 subfield b - \"Cat. Date\"\n",
    "                try:\n",
    "                    cat_date=datetime.strptime(record['998']['b'].format(), '%m-%d-%y')\n",
    "                except:\n",
    "                    cat_date=None\n",
    "                    \n",
    "                # 907 subfield c - \"Created\"\n",
    "                try:\n",
    "                    create_date=datetime.strptime(record['907']['c'].format(), '%m-%d-%y')\n",
    "                except:\n",
    "                    create_date=None\n",
    "\n",
    "                # 907 subfield b - \"Last Updated\"\n",
    "                try:\n",
    "                    last_update=datetime.strptime(record['907']['b'].format(), '%m-%d-%y')\n",
    "                except:\n",
    "                    last_update=None\n",
    "\n",
    "                # 998 subfield c - \"Bib Level\"\n",
    "                try:\n",
    "                    bib_level=record['998']['c'].format()\n",
    "                except:\n",
    "                    bib_level=None\n",
    "\n",
    "                # 998 subfield d - \"Format (MatType)\"\n",
    "                try:\n",
    "                    mat_type=record['998']['d'].format()\n",
    "                except:\n",
    "                    mat_type=None\n",
    "                    \n",
    "                \n",
    "                # 773 - Host Item Entry (R)\n",
    "                # $a - Main entry heading (NR)\n",
    "                # $g - Related parts (R)\n",
    "                # (record['773']['a'], record['773']['g'])\n",
    "                \n",
    "                # this is the full citation\n",
    "                try:\n",
    "                    citation=record['773'].value().format()\n",
    "                except:\n",
    "                    citation=None\n",
    "                \n",
    "                try:\n",
    "                    pub_name=record['773']['a'].format()\n",
    "                except:\n",
    "                    pub_name=None\n",
    "                \n",
    "                try:\n",
    "                    # datetime.strptime(record['907']['b'], '%m-%d-%y')\n",
    "                    pub_date=datetime.strptime(record['773']['g'].format()[:10], '%m/%d/%Y')\n",
    "                except:\n",
    "                    pub_date=None\n",
    "\n",
    "                \n",
    "                # 260$c - Date of publication, distribution, etc. (R)\n",
    "                try:\n",
    "                    pub_year=record['260']['c'].format()\n",
    "                except:\n",
    "                    pub_year=None\n",
    "                    \n",
    "                \n",
    "                try:\n",
    "                    marc_data=MarcData(\n",
    "                        # marc_in_json = Column(JSON, nullable=True)\n",
    "                        marc_in_json=json.loads(record.as_json()),\n",
    "                        # print(record_json)\n",
    "                        \n",
    "                        # marc_in_binary = Column(LargeBinary, nullable=True)\n",
    "                        marc_in_binary=record.as_marc21(),\n",
    "                        \n",
    "                        # marc_in_text = Column(Text, nullable=True)\n",
    "                        marc_in_text=str(record).replace('\\\\', ' ')\n",
    "                        \n",
    "                        \n",
    "                    )\n",
    "                except:\n",
    "                    marc_data=MarcData(\n",
    "                        marc_in_json=None,\n",
    "                        marc_in_binary=None,\n",
    "                        marc_in_text=None\n",
    "                    )\n",
    "                \n",
    "                r = Record(\n",
    "                    title=title,\n",
    "                    pub_name=pub_name,\n",
    "                    pub_date=pub_date,\n",
    "                    pub_year=pub_year,\n",
    "                    citation=citation,\n",
    "                    location=location,\n",
    "                    cat_date=cat_date,\n",
    "                    create_date=create_date,\n",
    "                    last_update=last_update,\n",
    "                    bib_level=bib_level,\n",
    "                    mat_type=mat_type,\n",
    "                    \n",
    "                    # record_json=record_json,\n",
    "                    subjects=subjects,\n",
    "                    \n",
    "                    marc_data=[marc_data],\n",
    "                )\n",
    "                record_list.append(r)\n",
    "                \n",
    "                if (i % 50000 == 0 and i!=0):\n",
    "                    session.add_all(record_list)\n",
    "                    session.commit()\n",
    "                    del(record_list)\n",
    "                    record_list = []\n",
    "                    print(i, '.', end='')\n",
    "                    # break\n",
    "                    \n",
    "            session.add_all(record_list)\n",
    "            session.commit()\n",
    "            print(i, '.', end='')"
   ]
  },
  {
   "cell_type": "code",
   "execution_count": 5,
   "id": "53908bf0-973d-4e62-b74c-b24a3820ad7f",
   "metadata": {},
   "outputs": [
    {
     "name": "stdout",
     "output_type": "stream",
     "text": [
      "008                                            \n",
      "245    Public library staff: Instructive talks heard and a social hour enjoyed by employees\n",
      "260    1900\n",
      "650    Public Library\n",
      "650    Public Library, Personnel\n",
      "650    Hodges, Nathaniel Dana Carlisle\n",
      "773    Commercial Tribune 10/02/1900 6:6\n",
      "907    .b28911532 03-06-20 03-06-20\n",
      "998    2ma 03-06-20 m - - eng 0\n"
     ]
    }
   ],
   "source": [
    "marc_as_text = \"\\n\".join(\n",
    "    [f\"{field.tag}    {field.value()}\" for field in record.fields]\n",
    ")\n",
    "\n",
    "print(marc_as_text)"
   ]
  },
  {
   "cell_type": "code",
   "execution_count": 6,
   "id": "a4c59af7-a480-4143-b8e3-1cd05d9de557",
   "metadata": {},
   "outputs": [
    {
     "data": {
      "text/plain": [
       "'00467nam  2200133 a 4500'"
      ]
     },
     "execution_count": 6,
     "metadata": {},
     "output_type": "execute_result"
    }
   ],
   "source": [
    "record.leader"
   ]
  },
  {
   "cell_type": "code",
   "execution_count": 7,
   "id": "42c1290c-0a03-4710-a51d-f94dc8bc9055",
   "metadata": {},
   "outputs": [
    {
     "name": "stdout",
     "output_type": "stream",
     "text": [
      "=LDR  00467nam  2200133 a 4500\n",
      "=008                                          \n",
      "=245   0$aPublic library staff: Instructive talks heard and a social hour enjoyed by employees\n",
      "=260    $c1900\n",
      "=650    $aPublic Library\n",
      "=650    $aPublic Library, Personnel\n",
      "=650    $aHodges, Nathaniel Dana Carlisle\n",
      "=773    $aCommercial Tribune$g10/02/1900 6:6\n",
      "=907    $a.b28911532$b03-06-20$c03-06-20\n",
      "=998    $a2ma$b03-06-20$cm$d-$e-$feng$h0\n",
      "\n"
     ]
    }
   ],
   "source": [
    "# marc_as_text\n",
    "record_str = str(record).replace('\\\\', ' ')\n",
    "print(record_str)"
   ]
  },
  {
   "cell_type": "code",
   "execution_count": 8,
   "id": "fe5550eb-9d9c-492c-9fc1-3b506cbd9329",
   "metadata": {},
   "outputs": [
    {
     "name": "stdout",
     "output_type": "stream",
     "text": [
      "{'leader': '00467nam  2200133 a 4500', 'fields': [{'008': '                                        '}, {'245': {'subfields': [{'a': 'Public library staff: Instructive talks heard and a social hour enjoyed by employees'}], 'ind1': ' ', 'ind2': '0'}}, {'260': {'subfields': [{'c': '1900'}], 'ind1': ' ', 'ind2': ' '}}, {'650': {'subfields': [{'a': 'Public Library'}], 'ind1': ' ', 'ind2': ' '}}, {'650': {'subfields': [{'a': 'Public Library, Personnel'}], 'ind1': ' ', 'ind2': ' '}}, {'650': {'subfields': [{'a': 'Hodges, Nathaniel Dana Carlisle'}], 'ind1': ' ', 'ind2': ' '}}, {'773': {'subfields': [{'a': 'Commercial Tribune'}, {'g': '10/02/1900 6:6'}], 'ind1': ' ', 'ind2': ' '}}, {'907': {'subfields': [{'a': '.b28911532'}, {'b': '03-06-20'}, {'c': '03-06-20'}], 'ind1': ' ', 'ind2': ' '}}, {'998': {'subfields': [{'a': '2ma'}, {'b': '03-06-20'}, {'c': 'm'}, {'d': '-'}, {'e': '-'}, {'f': 'eng'}, {'h': '0'}], 'ind1': ' ', 'ind2': ' '}}]}\n"
     ]
    }
   ],
   "source": [
    "# marc_as_json\n",
    "record_json = json.loads(record.as_json())\n",
    "print(record_json)"
   ]
  },
  {
   "cell_type": "code",
   "execution_count": 9,
   "id": "c07864a9-8fe0-4fd3-b102-d76ca49b5295",
   "metadata": {},
   "outputs": [
    {
     "data": {
      "text/plain": [
       "b'00467nam  2200133 a 4500008004100000245008900041260000900130650001900139650003000158650003600188773003900224907003500263998003500298\\x1e                                        \\x1e 0\\x1faPublic library staff: Instructive talks heard and a social hour enjoyed by employees\\x1e  \\x1fc1900\\x1e  \\x1faPublic Library\\x1e  \\x1faPublic Library, Personnel\\x1e  \\x1faHodges, Nathaniel Dana Carlisle\\x1e  \\x1faCommercial Tribune\\x1fg10/02/1900 6:6\\x1e  \\x1fa.b28911532\\x1fb03-06-20\\x1fc03-06-20\\x1e  \\x1fa2ma\\x1fb03-06-20\\x1fcm\\x1fd-\\x1fe-\\x1ffeng\\x1fh0\\x1e\\x1d'"
      ]
     },
     "execution_count": 9,
     "metadata": {},
     "output_type": "execute_result"
    }
   ],
   "source": [
    "# marc_as_binary\n",
    "record.as_marc21()"
   ]
  },
  {
   "cell_type": "code",
   "execution_count": 10,
   "id": "2a611a9f-f7f1-480e-9d63-588d4a81ef78",
   "metadata": {},
   "outputs": [],
   "source": [
    "# set up the FTS search with datasette now\n",
    "# # # # set up the full-text-search on record data\n",
    "\n",
    "# sql = \"\"\"\\\n",
    "# DROP TABLE IF EXISTS record_fts\n",
    "# ;\n",
    "\n",
    "# -- CREATE VIRTUAL TABLE record USING fts5(title,pub_date,pub_name,pub_year,subjects)\n",
    "# --;\n",
    "\n",
    "# --INSERT INTO \n",
    "# --    record_fts (title, pub_date, pub_name, pub_year, subjects)\n",
    "# --SELECT\n",
    "# --    record.title,\n",
    "# --    record.pub_date,\n",
    "# --    record.pub_name,\n",
    "# --    record.pub_year,\n",
    "# --    record.subjects\n",
    "# --FROM\n",
    "# --    record\n",
    "# --;\n",
    "\n",
    "# --ANALYZE\n",
    "# --;\n",
    "# \"\"\"\n",
    "\n",
    "# with Session(engine) as session:\n",
    "#     for statement in sql.split(';'):\n",
    "#         session.execute(text(statement))\n",
    "    \n",
    "#     session.commit()"
   ]
  },
  {
   "cell_type": "code",
   "execution_count": 12,
   "id": "37984362-45e2-49a9-802c-46292b1c501c",
   "metadata": {},
   "outputs": [
    {
     "name": "stdout",
     "output_type": "stream",
     "text": [
      "sqlite-utils, version 3.30\n",
      "[{\"rows_affected\": -1}]\n",
      "[{\"rows_affected\": -1}]\n",
      "[{\"rows_affected\": -1}]\n",
      "[{\"rows_affected\": -1}]\n"
     ]
    }
   ],
   "source": [
    "# TODO: convert these to the Python API \n",
    "!sqlite-utils --version\n",
    "\n",
    "!sqlite-utils disable-fts record_data.db record\n",
    "\n",
    "# enable full-text search \n",
    "!sqlite-utils enable-fts record_data.db record title pub_date pub_name pub_year subjects --create-triggers\n",
    "\n",
    "!sqlite-utils query record_data.db \"DROP INDEX IF EXISTS idx_record_pub_year\"\n",
    "!sqlite-utils create-index record_data.db record pub_year --analyze\n",
    "\n",
    "!sqlite-utils query record_data.db \"DROP INDEX IF EXISTS idx_record_pub_name\"\n",
    "!sqlite-utils create-index record_data.db record pub_name --analyze\n",
    "\n",
    "!sqlite-utils query record_data.db \"DROP INDEX IF EXISTS idx_record_title\"\n",
    "!sqlite-utils create-index record_data.db record title --analyze\n",
    "\n",
    "!sqlite-utils query record_data.db \"DROP INDEX IF EXISTS idx_record_pub_date\"\n",
    "!sqlite-utils create-index record_data.db record pub_date --analyze\n",
    "\n",
    "!sqlite-utils index-foreign-keys record_data.db"
   ]
  },
  {
   "cell_type": "code",
   "execution_count": 3,
   "id": "3180f4e2-27eb-4cb1-872f-718a34c8969e",
   "metadata": {},
   "outputs": [
    {
     "data": {
      "text/plain": [
       "<Database <sqlite3.Connection object at 0x7f9ad366b740>>"
      ]
     },
     "execution_count": 3,
     "metadata": {},
     "output_type": "execute_result"
    }
   ],
   "source": [
    "db = sqlite_utils.Database('record_data.db')\n",
    "\n",
    "# http://newsdex.plch.net/Newsdex+Record+Data/record?_sort=pub_year&subjects__arraycontains=World+War+II\n",
    "\n",
    "db.create_view(\n",
    "    name=\"subject_search_view\",\n",
    "    replace=True,\n",
    "    sql=\"\"\"\\\n",
    "with subject_values as (\n",
    "  select\n",
    "    value,\n",
    "    count(*) as count_values\n",
    "  from\n",
    "    record,\n",
    "    json_each([record].[subjects])\n",
    "  group by\n",
    "    1\n",
    ")\n",
    "select\n",
    "  -- value,\n",
    "  json_object(\n",
    "    \"href\",\n",
    "    \"/Newsdex+Record+Data/record?subjects__arraycontains=\" \n",
    "        || replace(replace(replace(replace(replace(value ,\n",
    "            \" \", \"%20\"),\n",
    "            \"/\", \"%2F\"),\n",
    "            \"(\", \"%28\"),\n",
    "            \")\", \"%29\"),\n",
    "            \"&\", \"%26\")\n",
    "        || \"&_sort=pub_year\",\n",
    "    \"label\",\n",
    "    value,\n",
    "    \"description\",\n",
    "    count_values || \" Records containing subject '\" || value || \"'\" \n",
    "  ) as \"indexed subject\",\n",
    "  count_values as \"count records\"\n",
    "from\n",
    "  subject_values\n",
    "\"\"\"\n",
    ")\n",
    "\n",
    "\n",
    "db.create_view(\n",
    "    name=\"title_search_view\",\n",
    "    replace=True,\n",
    "    sql=\"\"\"\n",
    "with title_values as (\n",
    "  select\n",
    "    coalesce(title, '') as title,\n",
    "    count(*) as count_titles\n",
    "  from\n",
    "    record\n",
    "  group by\n",
    "    1\n",
    ")\n",
    "select\n",
    "  -- value,\n",
    "  json_object(\n",
    "    \"href\",\n",
    "    \"/Newsdex+Record+Data/record?title=\" \n",
    "        || replace(replace(replace(replace(replace(title ,\n",
    "            \" \", \"%20\"),\n",
    "            \"/\", \"%2F\"),\n",
    "            \"(\", \"%28\"),\n",
    "            \")\", \"%29\"),\n",
    "            \"&\", \"%26\")\n",
    "        || \"&_sort=pub_year\",\n",
    "    \"label\",\n",
    "    title,\n",
    "    \"description\",\n",
    "    count_titles || \" Records containing title '\" || title || \"'\" \n",
    "  ) as \"indexed titles\",\n",
    "  count_titles as \"count records\"\n",
    "from\n",
    "  title_values;\n",
    "\"\"\"\n",
    ")\n",
    "\n",
    "\n",
    "\n",
    "db.create_view(\n",
    "    name=\"publication_search_view\",\n",
    "    replace=True,\n",
    "    sql=\"\"\"\n",
    "with pub_values as (\n",
    "  select\n",
    "    coalesce(pub_name, '') as pub_name,\n",
    "    count(*) as count_records\n",
    "  from\n",
    "    record\n",
    "  group by\n",
    "    1\n",
    ")\n",
    "select\n",
    "  -- value,\n",
    "  json_object(\n",
    "    \"href\",\n",
    "    \"/Newsdex+Record+Data/record?pub_name=\" \n",
    "        || replace(replace(replace(replace(replace(pub_name ,\n",
    "            \" \", \"%20\"),\n",
    "            \"/\", \"%2F\"),\n",
    "            \"(\", \"%28\"),\n",
    "            \")\", \"%29\"),\n",
    "            \"&\", \"%26\")\n",
    "        || \"&_sort=pub_year\",\n",
    "    \"label\",\n",
    "    pub_name,\n",
    "    \"description\",\n",
    "    count_records || \" Records in publication '\" || pub_name || \"'\" \n",
    "  ) as \"indexed records\",\n",
    "  count_records as \"count records\"\n",
    "from\n",
    "  pub_values;\n",
    "\"\"\"\n",
    ")\n",
    "\n",
    "\n",
    "db.create_view(\n",
    "    name=\"published_year_search_view\",\n",
    "    replace=True,\n",
    "    sql=\"\"\"\n",
    "with pub_values as (\n",
    "  select\n",
    "    coalesce(pub_year, '') as pub_year,\n",
    "    count(*) as count_records\n",
    "  from\n",
    "    record\n",
    "  group by\n",
    "    1\n",
    ")\n",
    "select\n",
    "  -- value,\n",
    "  json_object(\n",
    "    \"href\",\n",
    "    \"/Newsdex+Record+Data/record?pub_year=\" \n",
    "        || replace(replace(replace(replace(replace(pub_year ,\n",
    "            \" \", \"%20\"),\n",
    "            \"/\", \"%2F\"),\n",
    "            \"(\", \"%28\"),\n",
    "            \")\", \"%29\"),\n",
    "            \"&\", \"%26\")\n",
    "        || \"&_sort=pub_date\",\n",
    "    \"label\",\n",
    "    pub_year,\n",
    "    \"description\",\n",
    "    count_records || \" Records in published in year '\" || pub_year || \"'\" \n",
    "  ) as \"indexed records\",\n",
    "  count_records as \"count records\"\n",
    "from\n",
    "  pub_values;\n",
    "\"\"\"\n",
    ")"
   ]
  },
  {
   "cell_type": "code",
   "execution_count": 13,
   "id": "4e69113b-b46d-46a7-aafd-25219c555ff5",
   "metadata": {},
   "outputs": [
    {
     "data": {
      "text/plain": [
       "datetime.datetime(1900, 10, 2, 0, 0)"
      ]
     },
     "execution_count": 13,
     "metadata": {},
     "output_type": "execute_result"
    }
   ],
   "source": [
    "datetime.strptime(record['773']['g'].format()[:10], '%m/%d/%Y')"
   ]
  },
  {
   "cell_type": "code",
   "execution_count": 14,
   "id": "d7865db6-6773-4f86-bcc2-e140a02b67c5",
   "metadata": {},
   "outputs": [
    {
     "data": {
      "text/plain": [
       "'10/02/1900 6:6'"
      ]
     },
     "execution_count": 14,
     "metadata": {},
     "output_type": "execute_result"
    }
   ],
   "source": [
    "record['773']['g'].format()"
   ]
  },
  {
   "cell_type": "code",
   "execution_count": 15,
   "id": "b6664335-7ac3-4dbe-b057-57d8016549ad",
   "metadata": {},
   "outputs": [
    {
     "data": {
      "text/plain": [
       "'6:6'"
      ]
     },
     "execution_count": 15,
     "metadata": {},
     "output_type": "execute_result"
    }
   ],
   "source": [
    "record['773']['g'].format()[10:].strip()"
   ]
  },
  {
   "cell_type": "code",
   "execution_count": 16,
   "id": "f4f17ed2-52cf-4d5b-8245-0e1943afed9c",
   "metadata": {},
   "outputs": [
    {
     "name": "stdout",
     "output_type": "stream",
     "text": [
      "008                                         \n",
      "245 Public library staff: Instructive talks heard and a social hour enjoyed by employees\n",
      "260 1900\n",
      "650 Public Library\n",
      "650 Public Library, Personnel\n",
      "650 Hodges, Nathaniel Dana Carlisle\n",
      "773 Commercial Tribune 10/02/1900 6:6\n",
      "907 .b28911532 03-06-20 03-06-20\n",
      "998 2ma 03-06-20 m - - eng 0\n"
     ]
    }
   ],
   "source": [
    "for field in record.fields:\n",
    "    print(field.tag, field.value(), end=\"\\n\")\n",
    "    # print([(field.tag, field.value()) for field in record.fields], sep=\"\\n\")"
   ]
  },
  {
   "cell_type": "code",
   "execution_count": 17,
   "id": "9e25504c-a8f3-42d3-977b-35411345f253",
   "metadata": {},
   "outputs": [
    {
     "data": {
      "text/plain": [
       "['03-06-20']"
      ]
     },
     "execution_count": 17,
     "metadata": {},
     "output_type": "execute_result"
    }
   ],
   "source": [
    "record['907'].subfields_as_dict()['c']"
   ]
  },
  {
   "cell_type": "code",
   "execution_count": 18,
   "id": "f1946bb1-3d49-4cd3-8d7c-e0f07af5ee3d",
   "metadata": {},
   "outputs": [],
   "source": [
    "# [subfield for subfield in record['773'].get_subfields]"
   ]
  },
  {
   "cell_type": "code",
   "execution_count": 19,
   "id": "62441d19-f28a-4ac4-934c-04f8d4f5bcfd",
   "metadata": {},
   "outputs": [
    {
     "data": {
      "text/plain": [
       "'{\"leader\": \"00467nam  2200133 a 4500\", \"fields\": [{\"008\": \"                                        \"}, {\"245\": {\"subfields\": [{\"a\": \"Public library staff: Instructive talks heard and a social hour enjoyed by employees\"}], \"ind1\": \" \", \"ind2\": \"0\"}}, {\"260\": {\"subfields\": [{\"c\": \"1900\"}], \"ind1\": \" \", \"ind2\": \" \"}}, {\"650\": {\"subfields\": [{\"a\": \"Public Library\"}], \"ind1\": \" \", \"ind2\": \" \"}}, {\"650\": {\"subfields\": [{\"a\": \"Public Library, Personnel\"}], \"ind1\": \" \", \"ind2\": \" \"}}, {\"650\": {\"subfields\": [{\"a\": \"Hodges, Nathaniel Dana Carlisle\"}], \"ind1\": \" \", \"ind2\": \" \"}}, {\"773\": {\"subfields\": [{\"a\": \"Commercial Tribune\"}, {\"g\": \"10/02/1900 6:6\"}], \"ind1\": \" \", \"ind2\": \" \"}}, {\"907\": {\"subfields\": [{\"a\": \".b28911532\"}, {\"b\": \"03-06-20\"}, {\"c\": \"03-06-20\"}], \"ind1\": \" \", \"ind2\": \" \"}}, {\"998\": {\"subfields\": [{\"a\": \"2ma\"}, {\"b\": \"03-06-20\"}, {\"c\": \"m\"}, {\"d\": \"-\"}, {\"e\": \"-\"}, {\"f\": \"eng\"}, {\"h\": \"0\"}], \"ind1\": \" \", \"ind2\": \" \"}}]}'"
      ]
     },
     "execution_count": 19,
     "metadata": {},
     "output_type": "execute_result"
    }
   ],
   "source": [
    "record.as_json()"
   ]
  },
  {
   "cell_type": "code",
   "execution_count": 20,
   "id": "3a4d22f7-3b3d-4e70-a75c-3d6bfdf97d9c",
   "metadata": {},
   "outputs": [],
   "source": [
    "# with Session(engine) as session:\n",
    "#     with zipfile.ZipFile('2023-01-24_newsdex-full-marc-export.zip') as marc_data_file:\n",
    "#         # should only contain one file ...\n",
    "#         print(marc_data_file.filelist[0].filename)\n",
    "#         # get a file handle for the marc data file\n",
    "#         with marc_data_file.open(marc_data_file.filelist[0]) as fh:\n",
    "#             reader = MARCReader(fh)\n",
    "#             for i, record in enumerate(reader):\n",
    "#                 subjects = []\n",
    "#                 for j, s in enumerate([subject.value() for subject in record.subjects()]):\n",
    "#                     subjects.append(Subject(value=s, occ_num=j))\n",
    "#                 r = Record(\n",
    "#                     title=record.title(),\n",
    "#                     record_json=record.as_json(),\n",
    "#                     subjects=subjects\n",
    "#                 )\n",
    "\n",
    "#                 session.add(r)\n",
    "#                 if (i % 100000 == 0 ):\n",
    "#                     print(f'{i}.', end='')\n",
    "#                     session.commit()\n",
    "\n",
    "#                 # print(i, record['001'].value(), record.title(), [subject.value() for subject in record.subjects()])\n",
    "#                 # if i>=100:\n",
    "#                 #     break\n",
    "#     session.commit()"
   ]
  },
  {
   "cell_type": "code",
   "execution_count": 32,
   "id": "177d7c2b-2a70-48b8-a2d4-3f7c42a232f0",
   "metadata": {},
   "outputs": [],
   "source": [
    "# metadata.json\n",
    "\n",
    "popular_subjects = \"\"\"\\\n",
    "select\n",
    "  -- record.id as record_id,\n",
    "  json_object(\n",
    "    \"href\",\n",
    "    \"/Newsdex+Record+Data/record?subjects__arraycontains=\" \n",
    "        || replace(replace(replace(replace(replace(json_each.value ,\n",
    "            \" \", \"%20\"),\n",
    "            \"/\", \"%2F\"),\n",
    "            \"(\", \"%28\"),\n",
    "            \")\", \"%29\"),\n",
    "            \"&\", \"%26\")\n",
    "        || \"&_sort=pub_year\",\n",
    "    \"label\",\n",
    "    json_each.value,\n",
    "    \"description\",\n",
    "    \"Records containing subject: '\" || json_each.value || \"'\"\n",
    "  ) as \"indexed subject\",\n",
    "  --\n",
    "  -- json_each.value as indexed_subject,\n",
    "  count(record.id) as count_records\n",
    "from\n",
    "  record,\n",
    "  json_each(subjects)\n",
    "group by\n",
    "  1\n",
    "order by\n",
    "  2 DESC;\n",
    "\"\"\"\n",
    "\n",
    "metadata = {\n",
    "    \"title\": \"CHPL Newsdex 📰\",\n",
    "    \"extra_css_urls\": [\n",
    "      \"/static/my.css\"\n",
    "    ],\n",
    "    \"databases\": {\n",
    "      \"Newsdex Record Data\": {\n",
    "        \"queries\":{\n",
    "          \"popular subjects\":{\n",
    "            \"sql\": popular_subjects\n",
    "          }\n",
    "        }\n",
    "      }\n",
    "    }\n",
    "}\n",
    "\n",
    "\n",
    "with open(\"datasette/my-app/metadata.json\", \"w\") as outfile:\n",
    "    json.dump(metadata, outfile)"
   ]
  },
  {
   "cell_type": "code",
   "execution_count": 29,
   "id": "a9999294-2095-48b3-b262-ad6b0f93584c",
   "metadata": {},
   "outputs": [
    {
     "data": {
      "text/plain": [
       "'{\"title\": \"CHPL Newsdex \\\\ud83d\\\\udcf0\", \"extra_css_urls\": [\"/static/my.css\"], \"databases\": {\"Newsdex Record Data\": {\"queries\": {\"popular subjects\": {\"sql\": \"CREATE VIEW subject_search_view AS select\\\\n  -- record.id as record_id,\\\\n  json_object(\\\\n    \\\\\"href\\\\\",\\\\n    \\\\\"/Newsdex+Record+Data/record?subjects__arraycontains=\\\\\" \\\\n        || replace(replace(replace(replace(json_each.value ,\\\\n            \\\\\" \\\\\", \\\\\"%20\\\\\"),\\\\n            \\\\\"/\\\\\", \\\\\"%2F\\\\\"),\\\\n            \\\\\"(\\\\\", \\\\\"%28\\\\\"),\\\\n            \\\\\")\\\\\", \\\\\"%29\\\\\")\\\\n        || \\\\\"&_sort=pub_year\\\\\",\\\\n    \\\\\"label\\\\\",\\\\n    json_each.value,\\\\n    \\\\\"description\\\\\",\\\\n    \\\\\"Records containing subject: \\'\\\\\" || json_each.value || \\\\\"\\'\\\\\"\\\\n  ) as \\\\\"indexed subject\\\\\",\\\\n  --\\\\n  -- json_each.value as indexed_subject,\\\\n  count(record.id) as count_records\\\\nfrom\\\\n  record,\\\\n  json_each(subjects)\\\\ngroup by\\\\n  1\\\\norder by\\\\n  2 DESC;\\\\n\"}}}}}'"
      ]
     },
     "execution_count": 29,
     "metadata": {},
     "output_type": "execute_result"
    }
   ],
   "source": [
    "json.dumps(metadata)"
   ]
  }
 ],
 "metadata": {
  "kernelspec": {
   "display_name": "Python 3 (ipykernel)",
   "language": "python",
   "name": "python3"
  },
  "language_info": {
   "codemirror_mode": {
    "name": "ipython",
    "version": 3
   },
   "file_extension": ".py",
   "mimetype": "text/x-python",
   "name": "python",
   "nbconvert_exporter": "python",
   "pygments_lexer": "ipython3",
   "version": "3.10.6"
  }
 },
 "nbformat": 4,
 "nbformat_minor": 5
}
