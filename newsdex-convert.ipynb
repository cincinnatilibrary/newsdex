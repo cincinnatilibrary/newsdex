{
 "cells": [
  {
   "cell_type": "code",
   "execution_count": 1,
   "id": "4aa0bdfc-b12c-466b-ad6a-7423d7c18066",
   "metadata": {},
   "outputs": [
    {
     "name": "stdout",
     "output_type": "stream",
     "text": [
      "Collecting pymarc\n",
      "  Downloading pymarc-4.2.1-py3-none-any.whl (155 kB)\n",
      "\u001b[2K     \u001b[38;2;114;156;31m━━━━━━━━━━━━━━━━━━━━━━━━━━━━━━━━━━━━━━━\u001b[0m \u001b[32m155.4/155.4 KB\u001b[0m \u001b[31m3.2 MB/s\u001b[0m eta \u001b[36m0:00:00\u001b[0m MB/s\u001b[0m eta \u001b[36m0:00:01\u001b[0m\n",
      "\u001b[?25hInstalling collected packages: pymarc\n",
      "Successfully installed pymarc-4.2.1\n"
     ]
    }
   ],
   "source": [
    "!pip install -U pymarc"
   ]
  },
  {
   "cell_type": "code",
   "execution_count": 50,
   "id": "8457c70e-88b5-4488-a46c-19dbd864e679",
   "metadata": {},
   "outputs": [
    {
     "name": "stdout",
     "output_type": "stream",
     "text": [
      "CPU times: user 3 µs, sys: 0 ns, total: 3 µs\n",
      "Wall time: 6.68 µs\n",
      "2023-01-24_newsdex-full-export.out\n",
      "0 NEWS-93 Let The Sunshine In []\n",
      "1 NEWS-120 Bengals Romp But Browns Ruin Title Bid ['Cincinnati Bengals']\n",
      "2 NEWS-121 Chance Of White Christmas: 100% ['Christmas', 'Snow']\n",
      "3 NEWS-122 Pilot Killed At Lunken ['Ott, Robert Jeffrey', 'Airplane Accidents', 'Lunken Airport']\n",
      "4 NEWS-123 Dr. Aring Is Man Of Many Gifts ['Aring, Charles D. (Dr.)']\n",
      "5 NEWS-125 Schools Get Aid With Problems ['Sage Analytics International', 'Woodward High School', 'Cincinnati Public Schools, Problem Identifying Programs']\n",
      "6 NEWS-126 Radio-Tower Proposal Gets Hearing In Court ['Hoker Broadcasting Co.', 'Wofx-Fm, Radio Tower', 'College Hill']\n",
      "7 NEWS-127 Evanston Man Jailed On Murder Charges ['Maupin, Christopher L.', 'Sharma, Abhay D.', 'Murders']\n",
      "8 NEWS-128 Recycling-Prize Winners Invited To New Drawing ['Recycling (Cincinnati)', 'Browning-Ferris Industries Inc.']\n",
      "9 NEWS-133 America's Unending Revolution ['Spiegel, S. Arthur (Judge)', 'Citizenship']\n",
      "10 NEWS-134 Local Talent Cornerstone Of '90 Hyatt Jazz Series ['Brisker, Gordon', 'Wguc-Fm', 'Hyatt Regency']\n",
      "11 NEWS-135 Robert Binger In Lineup As Newest Bench ['Bench, Johnny Lee', 'Bench, Robert Binger \"Bobby\"']\n",
      "12 NEWS-136 Sam Leaves Oilers Seeking Shelter ['Wyche, Sam']\n",
      "13 NEWS-137 Bengals Bomb Oilers, 61-7 ['Cincinnati Bengals']\n",
      "14 NEWS-138 Tammy Svoboda To Uc ['Svoboda, Tammy', 'University Of Cincinnati, Basketball']\n",
      "15 NEWS-139 Bengals Will Pay, Oilers Warn ['Cincinnati Bengals']\n",
      "16 NEWS-140 Reggie Bids Farewell; 'no Regrets' ['Williams, Reggie']\n",
      "17 NEWS-141 Bearcats' Bench Takes Giant Step Forward ['University Of Cincinnati, Basketball']\n",
      "18 NEWS-142 Xu's Parker Hits Prime Time [\"Saint John's Unitarian Church (Clifton)\", 'Xavier University, Basketball']\n",
      "19 NEWS-144 Food Parcel Proves Popular ['Sizer, Tom', 'Sizer, Jeff', \"Pkg's Incorporated\"]\n"
     ]
    }
   ],
   "source": [
    "%time\n",
    "from pymarc import MARCReader\n",
    "import zipfile\n",
    "import sqlite3\n",
    "\n",
    "# open the zip file of the marc data\n",
    "with zipfile.ZipFile('2023-01-24_newsdex-full-marc-export.zip') as marc_data_file:\n",
    "    # should only contain one file ...\n",
    "    print(marc_data_file.filelist[0].filename)\n",
    "    # get a file handle for the marc data file\n",
    "    with marc_data_file.open(marc_data_file.filelist[0]) as fh:\n",
    "        reader = MARCReader(fh, to_unicode=True, force_utf8=True)\n",
    "        for i, record in enumerate(reader):\n",
    "            print(i, record['001'].value(), record.title(), [subject.value() for subject in record.subjects()])\n",
    "            if i>=19:\n",
    "                break"
   ]
  },
  {
   "cell_type": "code",
   "execution_count": 35,
   "id": "4109e24a-f4f1-4fa0-8aed-088b81699390",
   "metadata": {},
   "outputs": [
    {
     "data": {
      "text/plain": [
       "['001',\n",
       " '008',\n",
       " '245',\n",
       " '260',\n",
       " '650',\n",
       " '650',\n",
       " '650',\n",
       " '773',\n",
       " '907',\n",
       " '998',\n",
       " '944',\n",
       " '941',\n",
       " '959']"
      ]
     },
     "execution_count": 35,
     "metadata": {},
     "output_type": "execute_result"
    }
   ],
   "source": [
    "[field.tag for field in record.fields]"
   ]
  },
  {
   "cell_type": "code",
   "execution_count": 48,
   "id": "1d16860c-825a-445b-bb15-411d45746d65",
   "metadata": {},
   "outputs": [
    {
     "data": {
      "text/plain": [
       "['Sizer, Tom', 'Sizer, Jeff', \"Pkg's Incorporated\"]"
      ]
     },
     "execution_count": 48,
     "metadata": {},
     "output_type": "execute_result"
    }
   ],
   "source": [
    "# record['773'].subfields_as_dict()\n",
    "[field.value() for field in record.get_fields('650')]"
   ]
  },
  {
   "cell_type": "code",
   "execution_count": 37,
   "id": "f727bf13-7750-4858-ac8a-ae5137f32a33",
   "metadata": {},
   "outputs": [
    {
     "data": {
      "text/plain": [
       "('Cincinnati Enquirer', '12/18/1989 D:1')"
      ]
     },
     "execution_count": 37,
     "metadata": {},
     "output_type": "execute_result"
    }
   ],
   "source": [
    "# 773 - Host Item Entry (R)\n",
    "# $a - Main entry heading (NR)\n",
    "# $g - Related parts (R)\n",
    "(record['773']['a'], record['773']['g'])"
   ]
  },
  {
   "cell_type": "code",
   "execution_count": 72,
   "id": "c663b359-5123-4cbd-8989-e25415e5ad07",
   "metadata": {},
   "outputs": [
    {
     "data": {
      "text/plain": [
       "'1989'"
      ]
     },
     "execution_count": 72,
     "metadata": {},
     "output_type": "execute_result"
    }
   ],
   "source": [
    "# record['260'].value()\n",
    "# publication info\n",
    "# pub_year\n",
    "record['260']['c'].format()"
   ]
  },
  {
   "cell_type": "code",
   "execution_count": 38,
   "id": "f0170360-c50e-405c-becc-d80f8b9abca6",
   "metadata": {},
   "outputs": [
    {
     "data": {
      "text/plain": [
       "'Cincinnati Enquirer'"
      ]
     },
     "execution_count": 38,
     "metadata": {},
     "output_type": "execute_result"
    }
   ],
   "source": [
    "record['773']['a'].format()"
   ]
  },
  {
   "cell_type": "code",
   "execution_count": 59,
   "id": "7ac8ccaf-316c-4da1-856d-f60f469e0250",
   "metadata": {},
   "outputs": [
    {
     "data": {
      "text/plain": [
       "[['a', 'Cincinnati Enquirer', 'g', '12/18/1989 D:1']]"
      ]
     },
     "execution_count": 59,
     "metadata": {},
     "output_type": "execute_result"
    }
   ],
   "source": [
    "[(field.subfields) for field in record.get_fields('773')]"
   ]
  },
  {
   "cell_type": "code",
   "execution_count": 64,
   "id": "d634ab7f-808a-4b67-a696-77721c6a4dc5",
   "metadata": {},
   "outputs": [],
   "source": [
    "fields = record.get_fields('650')"
   ]
  },
  {
   "cell_type": "code",
   "execution_count": 68,
   "id": "1d730641-4b23-4907-b0d3-267229856e70",
   "metadata": {},
   "outputs": [
    {
     "data": {
      "text/plain": [
       "defaultdict(list, {'a': [\"Pkg's Incorporated\"]})"
      ]
     },
     "execution_count": 68,
     "metadata": {},
     "output_type": "execute_result"
    }
   ],
   "source": [
    "fields[2].subfields_as_dict()"
   ]
  },
  {
   "cell_type": "code",
   "execution_count": 16,
   "id": "68726a85-a528-4d2d-b8b5-a49101b2b7ea",
   "metadata": {},
   "outputs": [
    {
     "data": {
      "text/plain": [
       "'1'"
      ]
     },
     "execution_count": 16,
     "metadata": {},
     "output_type": "execute_result"
    }
   ],
   "source": [
    "# 260 $c - Date of publication, distribution, etc. (R)\n",
    "record['260']['c']"
   ]
  },
  {
   "cell_type": "code",
   "execution_count": 77,
   "id": "dfa4f3b5-0476-44d6-a68f-6262b6cdf125",
   "metadata": {},
   "outputs": [
    {
     "data": {
      "text/plain": [
       "2"
      ]
     },
     "execution_count": 77,
     "metadata": {},
     "output_type": "execute_result"
    }
   ],
   "source": [
    "len(record.get_fields('650'))"
   ]
  },
  {
   "cell_type": "code",
   "execution_count": 82,
   "id": "4df860e9-1bc0-43ae-ba76-090b7129a875",
   "metadata": {},
   "outputs": [
    {
     "name": "stdout",
     "output_type": "stream",
     "text": [
      "NEWS-241 0 Recycling (Wyoming)\n",
      "NEWS-241 1 Recycling\n"
     ]
    }
   ],
   "source": [
    "for i, value in enumerate([field.value() for field in record.get_fields('650')]):\n",
    "    print(record['001'].value(), i, value)"
   ]
  },
  {
   "cell_type": "code",
   "execution_count": null,
   "id": "5ca9053d-ab15-42ef-a519-76b18e303d70",
   "metadata": {},
   "outputs": [],
   "source": [
    "# with open('2023-01-24_newsdex-full-export.out', 'rb') as fh:\n",
    "#     reader = MARCReader(fh)\n",
    "#     for i, record in enumerate(reader):\n",
    "#         print(i, record.title(), [subject.value() for subject in record.subjects()])\n",
    "#         if i >= 6:\n",
    "#             break"
   ]
  },
  {
   "cell_type": "code",
   "execution_count": 39,
   "id": "bf77395b-cbdc-4ec2-ae14-42a754407805",
   "metadata": {},
   "outputs": [
    {
     "name": "stdout",
     "output_type": "stream",
     "text": [
      "001 NEWS-126\n",
      "008                                         \n",
      "245 Radio-Tower Proposal Gets Hearing In Court\n",
      "260 1989\n",
      "650 Hoker Broadcasting Co.\n",
      "650 Hoker Broadcasting Co.\n",
      "650 Hoker Broadcasting Co.\n",
      "773 Cincinnati Enquirer 12/18/1989 A:10\n",
      "907 .b10030098 10-03-12 08-31-12\n",
      "998 2ma 07-23-04 m 9 - eng 0\n",
      "944 7\n",
      "941 20040723 0 BATCH 0\n",
      "959 Newspaper Article MAIN MICROFILM MAGSTACKS MICROFORM N Y $0.00\n"
     ]
    }
   ],
   "source": [
    "# note this doesn't work for repeating fields (like the 650)\n",
    "for tag in [field.tag for field in record.fields]:\n",
    "    print(tag, record[tag].value())"
   ]
  },
  {
   "cell_type": "code",
   "execution_count": 23,
   "id": "7016b01a-9c0e-4619-82a1-d184e19e31dc",
   "metadata": {},
   "outputs": [
    {
     "name": "stdout",
     "output_type": "stream",
     "text": [
      "['Hoker Broadcasting Co.', 'Wofx-Fm, Radio Tower', 'College Hill']\n"
     ]
    }
   ],
   "source": [
    "print([f.value() for f in record.get_fields('650')])"
   ]
  },
  {
   "cell_type": "code",
   "execution_count": 42,
   "id": "ceee81b5-bb57-4aed-904c-a67c4f46d05b",
   "metadata": {},
   "outputs": [
    {
     "name": "stdout",
     "output_type": "stream",
     "text": [
      "001 NEWS-144\n",
      "008                                         \n",
      "245 {'a': ['Food Parcel Proves Popular']}\n",
      "260 {'c': ['1989']}\n",
      "773 {'a': ['Cincinnati Enquirer'], 'g': ['12/18/1989 D:1']}\n",
      "907 {'a': ['.b10030220'], 'b': ['10-03-12'], 'c': ['08-31-12']}\n",
      "998 {'a': ['2ma'], 'b': ['07-23-04'], 'c': ['m'], 'd': ['9'], 'e': ['-'], 'f': ['eng'], 'h': ['0']}\n",
      "944 {'a': ['20']}\n",
      "941 {'a': ['20040723'], 'b': ['0'], 'c': ['BATCH'], 'd': ['0']}\n",
      "959 {'a': ['Newspaper Article'], 'm': ['MAIN'], 't': ['MICROFILM'], 'l': ['MAGSTACKS'], 'x': ['MICROFORM'], 'r': ['N'], 's': ['Y'], 'p': ['$0.00']}\n"
     ]
    }
   ],
   "source": [
    "repeat_tags = []\n",
    "for tag in [field.tag for field in record.fields]:\n",
    "    # print(tag, len(record.get_fields(tag)), end='')\n",
    "    if len(record.get_fields(tag)) == 1:\n",
    "        # print(tag, record[tag].value())\n",
    "        try:\n",
    "            print(tag, dict(record[tag].subfields_as_dict()))\n",
    "        except:\n",
    "            print(tag, record[tag].value())\n",
    "    else:\n",
    "        repeat_tags.append(tag)\n",
    "        \n",
    "    # print(\n",
    "    #     # tag, \n",
    "    #     # record[tag].value())\n",
    "    #     [f.value() for f in record.get_fields(tag)]\n",
    "    # )"
   ]
  },
  {
   "cell_type": "code",
   "execution_count": 44,
   "id": "8000fcc0-638d-43b6-97c9-ef33af0caaef",
   "metadata": {},
   "outputs": [],
   "source": [
    "field = record['907']"
   ]
  },
  {
   "cell_type": "code",
   "execution_count": 45,
   "id": "12c63a33-5158-4cc6-9380-7237819f3c12",
   "metadata": {},
   "outputs": [
    {
     "name": "stdout",
     "output_type": "stream",
     "text": [
      "{'a': ['.b10030098'], 'b': ['10-03-12'], 'c': ['08-31-12']}\n"
     ]
    }
   ],
   "source": [
    "# field.is_subject_field()\n",
    "print(dict(field.subfields_as_dict()))"
   ]
  },
  {
   "cell_type": "code",
   "execution_count": 43,
   "id": "7e55345a-177c-4027-89d2-b8b525df5cb8",
   "metadata": {},
   "outputs": [
    {
     "data": {
      "text/plain": [
       "3"
      ]
     },
     "execution_count": 43,
     "metadata": {},
     "output_type": "execute_result"
    }
   ],
   "source": [
    "len(record.get_fields('650'))"
   ]
  },
  {
   "cell_type": "code",
   "execution_count": 46,
   "id": "3e1959d4-f477-4c3e-a045-cc7712c2b519",
   "metadata": {},
   "outputs": [
    {
     "name": "stdout",
     "output_type": "stream",
     "text": [
      "Hoker Broadcasting Co.\n",
      "Wofx-Fm, Radio Tower\n",
      "College Hill\n"
     ]
    }
   ],
   "source": [
    "for sub in record.subjects():\n",
    "    print(sub.value())"
   ]
  },
  {
   "cell_type": "code",
   "execution_count": 47,
   "id": "11368cb9-dea2-4570-b9ae-2b6e0edb07d9",
   "metadata": {},
   "outputs": [
    {
     "name": "stdout",
     "output_type": "stream",
     "text": [
      "['001', '008', '245', '260', '650', '650', '650', '773', '907', '998', '944', '941', '959']\n"
     ]
    }
   ],
   "source": [
    "print([field.tag for field in record.fields])"
   ]
  },
  {
   "cell_type": "code",
   "execution_count": 64,
   "id": "ab3388bf-14d3-4dbc-a87e-4bc01148cea5",
   "metadata": {},
   "outputs": [],
   "source": [
    "field = record['650'].format_field()"
   ]
  },
  {
   "cell_type": "code",
   "execution_count": 70,
   "id": "4f2e203b-d1d5-484e-a5cc-f991b9dfecc9",
   "metadata": {},
   "outputs": [
    {
     "data": {
      "text/plain": [
       "'NEWS-126'"
      ]
     },
     "execution_count": 70,
     "metadata": {},
     "output_type": "execute_result"
    }
   ],
   "source": [
    "record['001'].value()"
   ]
  },
  {
   "cell_type": "code",
   "execution_count": 62,
   "id": "d7495152-e21f-41dc-8018-e09f6fefe7e4",
   "metadata": {},
   "outputs": [
    {
     "ename": "AttributeError",
     "evalue": "'Field' object has no attribute 'subfields'",
     "output_type": "error",
     "traceback": [
      "\u001b[0;31m---------------------------------------------------------------------------\u001b[0m",
      "\u001b[0;31mAttributeError\u001b[0m                            Traceback (most recent call last)",
      "Cell \u001b[0;32mIn[62], line 1\u001b[0m\n\u001b[0;32m----> 1\u001b[0m \u001b[38;5;28mprint\u001b[39m([(field\u001b[38;5;241m.\u001b[39mtag, field\u001b[38;5;241m.\u001b[39mvalue(), field\u001b[38;5;241m.\u001b[39msubfields()) \u001b[38;5;28;01mfor\u001b[39;00m field \u001b[38;5;129;01min\u001b[39;00m record\u001b[38;5;241m.\u001b[39mfields])\n",
      "Cell \u001b[0;32mIn[62], line 1\u001b[0m, in \u001b[0;36m<listcomp>\u001b[0;34m(.0)\u001b[0m\n\u001b[0;32m----> 1\u001b[0m \u001b[38;5;28mprint\u001b[39m([(field\u001b[38;5;241m.\u001b[39mtag, field\u001b[38;5;241m.\u001b[39mvalue(), \u001b[43mfield\u001b[49m\u001b[38;5;241;43m.\u001b[39;49m\u001b[43msubfields\u001b[49m()) \u001b[38;5;28;01mfor\u001b[39;00m field \u001b[38;5;129;01min\u001b[39;00m record\u001b[38;5;241m.\u001b[39mfields])\n",
      "\u001b[0;31mAttributeError\u001b[0m: 'Field' object has no attribute 'subfields'"
     ]
    }
   ],
   "source": [
    "print([(field.tag, field.value(), ) for field in record.fields])"
   ]
  },
  {
   "cell_type": "code",
   "execution_count": 64,
   "id": "e2539b83-9c03-438f-8031-e5cfce111c3b",
   "metadata": {},
   "outputs": [
    {
     "name": "stdout",
     "output_type": "stream",
     "text": [
      "[('907', '.b10030098 10-03-12 08-31-12'), ('998', '2ma 07-23-04 m 9 - eng 0'), ('944', '7'), ('941', '20040723 0 BATCH 0'), ('959', 'Newspaper Article MAIN MICROFILM MAGSTACKS MICROFORM N Y $0.00')]\n"
     ]
    }
   ],
   "source": [
    "print([(field.tag, field.value()) for field in record.fields if field.tag >= '900'])"
   ]
  },
  {
   "cell_type": "code",
   "execution_count": 68,
   "id": "e9c210bf-4918-4c95-9b72-a000274774b4",
   "metadata": {},
   "outputs": [
    {
     "name": "stdout",
     "output_type": "stream",
     "text": [
      "[<pymarc.field.Field object at 0x7fe94162a3b0>, <pymarc.field.Field object at 0x7fe94162af20>, <pymarc.field.Field object at 0x7fe94162a260>, <pymarc.field.Field object at 0x7fe94162a800>, <pymarc.field.Field object at 0x7fe94162ab90>, <pymarc.field.Field object at 0x7fe941854310>, <pymarc.field.Field object at 0x7fe941854670>, <pymarc.field.Field object at 0x7fe941824f40>, <pymarc.field.Field object at 0x7fe941827550>, <pymarc.field.Field object at 0x7fe941743580>, <pymarc.field.Field object at 0x7fe941789060>, <pymarc.field.Field object at 0x7fe942429330>, <pymarc.field.Field object at 0x7fe941827ac0>]\n"
     ]
    }
   ],
   "source": [
    "print(record.get_fields())"
   ]
  },
  {
   "cell_type": "code",
   "execution_count": 69,
   "id": "e0a66620-13fc-432c-bfcc-6f15b66bb40b",
   "metadata": {},
   "outputs": [
    {
     "data": {
      "text/plain": [
       "'{\"leader\": \"00574cam  2200181   4500\", \"fields\": [{\"001\": \"NEWS-126\"}, {\"008\": \"                                        \"}, {\"245\": {\"subfields\": [{\"a\": \"Radio-Tower Proposal Gets Hearing In Court\"}], \"ind1\": \" \", \"ind2\": \" \"}}, {\"260\": {\"subfields\": [{\"c\": \"1989\"}], \"ind1\": \" \", \"ind2\": \" \"}}, {\"650\": {\"subfields\": [{\"a\": \"Hoker Broadcasting Co.\"}], \"ind1\": \" \", \"ind2\": \" \"}}, {\"650\": {\"subfields\": [{\"a\": \"Wofx-Fm, Radio Tower\"}], \"ind1\": \" \", \"ind2\": \" \"}}, {\"650\": {\"subfields\": [{\"a\": \"College Hill\"}], \"ind1\": \" \", \"ind2\": \" \"}}, {\"773\": {\"subfields\": [{\"a\": \"Cincinnati Enquirer\"}, {\"g\": \"12/18/1989 A:10\"}], \"ind1\": \" \", \"ind2\": \" \"}}, {\"907\": {\"subfields\": [{\"a\": \".b10030098\"}, {\"b\": \"10-03-12\"}, {\"c\": \"08-31-12\"}], \"ind1\": \" \", \"ind2\": \" \"}}, {\"998\": {\"subfields\": [{\"a\": \"2ma\"}, {\"b\": \"07-23-04\"}, {\"c\": \"m\"}, {\"d\": \"9\"}, {\"e\": \"-\"}, {\"f\": \"eng\"}, {\"h\": \"0\"}], \"ind1\": \" \", \"ind2\": \" \"}}, {\"944\": {\"subfields\": [{\"a\": \"7\"}], \"ind1\": \" \", \"ind2\": \" \"}}, {\"941\": {\"subfields\": [{\"a\": \"20040723\"}, {\"b\": \"0\"}, {\"c\": \"BATCH\"}, {\"d\": \"0\"}], \"ind1\": \" \", \"ind2\": \" \"}}, {\"959\": {\"subfields\": [{\"a\": \"Newspaper Article\"}, {\"m\": \"MAIN\"}, {\"t\": \"MICROFILM\"}, {\"l\": \"MAGSTACKS\"}, {\"x\": \"MICROFORM\"}, {\"r\": \"N\"}, {\"s\": \"Y\"}, {\"p\": \"$0.00\"}], \"ind1\": \" \", \"ind2\": \" \"}}]}'"
      ]
     },
     "execution_count": 69,
     "metadata": {},
     "output_type": "execute_result"
    }
   ],
   "source": [
    "record.as_json()"
   ]
  },
  {
   "cell_type": "code",
   "execution_count": 11,
   "id": "f7027fab-c117-4751-b82e-b90a01c1f34d",
   "metadata": {},
   "outputs": [
    {
     "ename": "TypeError",
     "evalue": "Record.decode_marc() missing 1 required positional argument: 'marc'",
     "output_type": "error",
     "traceback": [
      "\u001b[0;31m---------------------------------------------------------------------------\u001b[0m",
      "\u001b[0;31mTypeError\u001b[0m                                 Traceback (most recent call last)",
      "Cell \u001b[0;32mIn[11], line 1\u001b[0m\n\u001b[0;32m----> 1\u001b[0m \u001b[43mrecord\u001b[49m\u001b[38;5;241;43m.\u001b[39;49m\u001b[43mdecode_marc\u001b[49m\u001b[43m(\u001b[49m\u001b[43m)\u001b[49m\n",
      "\u001b[0;31mTypeError\u001b[0m: Record.decode_marc() missing 1 required positional argument: 'marc'"
     ]
    }
   ],
   "source": [
    "record.decode_marc()"
   ]
  },
  {
   "cell_type": "code",
   "execution_count": 12,
   "id": "04f1b6ee-fe5f-4b6c-8c3b-f5cada6edaa5",
   "metadata": {},
   "outputs": [
    {
     "name": "stderr",
     "output_type": "stream",
     "text": [
      "Unable to parse character 0x20 in g0=51 g1=69\n",
      "Unable to parse character 0x20 in g0=51 g1=69\n",
      "Unable to parse character 0x20 in g0=51 g1=69\n",
      "Unable to parse character 0x20 in g0=51 g1=69\n",
      "Unable to parse character 0x20 in g0=51 g1=69\n",
      "Unable to parse character 0x20 in g0=51 g1=69\n",
      "Unable to parse character 0x20 in g0=51 g1=69\n",
      "Unable to parse character 0x20 in g0=51 g1=69\n",
      "Unable to parse character 0x20 in g0=51 g1=69\n",
      "Unable to parse character 0x20 in g0=51 g1=69\n",
      "Unable to parse character 0x20 in g0=51 g1=69\n",
      "Unable to parse character 0x20 in g0=51 g1=69\n",
      "Unable to parse character 0x20 in g0=51 g1=69\n",
      "Unable to parse character 0x20 in g0=51 g1=69\n",
      "Unable to parse character 0x20 in g0=51 g1=69\n",
      "Unable to parse character 0x20 in g0=51 g1=69\n",
      "Unable to parse character 0x20 in g0=51 g1=69\n",
      "Unable to parse character 0x20 in g0=51 g1=69\n",
      "Unable to parse character 0x20 in g0=51 g1=69\n",
      "Unable to parse character 0x20 in g0=51 g1=69\n",
      "Unable to parse character 0x20 in g0=51 g1=69\n",
      "Unable to parse character 0x20 in g0=51 g1=69\n",
      "Unable to parse character 0x20 in g0=51 g1=69\n",
      "Unable to parse character 0x20 in g0=51 g1=69\n",
      "Unable to parse character 0x20 in g0=51 g1=69\n",
      "Unable to parse character 0x20 in g0=51 g1=69\n",
      "Unable to parse character 0x20 in g0=51 g1=69\n",
      "Unable to parse character 0x20 in g0=51 g1=69\n",
      "Unable to parse character 0x20 in g0=51 g1=69\n",
      "Unable to parse character 0x20 in g0=51 g1=69\n",
      "Unable to parse character 0x20 in g0=51 g1=69\n",
      "Unable to parse character 0x20 in g0=51 g1=69\n",
      "Unable to parse character 0x20 in g0=51 g1=69\n",
      "Unable to parse character 0x20 in g0=51 g1=69\n",
      "Unable to parse character 0x20 in g0=51 g1=69\n",
      "Unable to parse character 0x20 in g0=51 g1=69\n",
      "Unable to parse character 0x20 in g0=51 g1=69\n",
      "Unable to parse character 0x20 in g0=51 g1=69\n",
      "Unable to parse character 0x20 in g0=51 g1=69\n",
      "Unable to parse character 0x20 in g0=51 g1=69\n",
      "Unable to parse character 0x20 in g0=51 g1=69\n",
      "Unable to parse character 0x20 in g0=51 g1=69\n",
      "Unable to parse character 0x20 in g0=51 g1=69\n",
      "Unable to parse character 0x20 in g0=51 g1=69\n",
      "Unable to parse character 0x20 in g0=51 g1=69\n",
      "Unable to parse character 0x20 in g0=51 g1=69\n",
      "Unable to parse character 0x20 in g0=51 g1=69\n",
      "Unable to parse character 0x20 in g0=51 g1=69\n",
      "Unable to parse character 0x20 in g0=51 g1=69\n",
      "Unable to parse character 0x20 in g0=51 g1=69\n",
      "Unable to parse character 0x20 in g0=51 g1=69\n",
      "Unable to parse character 0x20 in g0=51 g1=69\n",
      "Unable to parse character 0x20 in g0=51 g1=69\n",
      "Unable to parse character 0x20 in g0=51 g1=69\n",
      "Unable to parse character 0x20 in g0=51 g1=69\n",
      "Unable to parse character 0x20 in g0=51 g1=69\n",
      "Unable to parse character 0x20 in g0=51 g1=69\n",
      "Unable to parse character 0x20 in g0=51 g1=69\n",
      "Unable to parse character 0x20 in g0=51 g1=69\n",
      "Unable to parse character 0x20 in g0=51 g1=69\n",
      "Unable to parse character 0x20 in g0=51 g1=69\n",
      "Unable to parse character 0x20 in g0=51 g1=69\n",
      "Unable to parse character 0x20 in g0=51 g1=69\n",
      "Unable to parse character 0x20 in g0=51 g1=69\n",
      "Unable to parse character 0x20 in g0=51 g1=69\n",
      "Unable to parse character 0x20 in g0=51 g1=69\n",
      "Unable to parse character 0x20 in g0=51 g1=69\n",
      "Unable to parse character 0x20 in g0=51 g1=69\n",
      "Unable to parse character 0x20 in g0=51 g1=69\n",
      "Unable to parse character 0x20 in g0=51 g1=69\n",
      "Unable to parse character 0x20 in g0=51 g1=69\n",
      "Unable to parse character 0x20 in g0=51 g1=69\n",
      "Unable to parse character 0x20 in g0=51 g1=69\n",
      "Unable to parse character 0x20 in g0=51 g1=69\n",
      "Unable to parse character 0x20 in g0=51 g1=69\n",
      "Unable to parse character 0x20 in g0=51 g1=69\n",
      "Unable to parse character 0x20 in g0=51 g1=69\n",
      "Unable to parse character 0x20 in g0=51 g1=69\n",
      "Unable to parse character 0x20 in g0=51 g1=69\n",
      "Unable to parse character 0x20 in g0=51 g1=69\n",
      "Unable to parse character 0x20 in g0=51 g1=69\n",
      "Unable to parse character 0x20 in g0=51 g1=69\n",
      "Unable to parse character 0x20 in g0=51 g1=69\n",
      "Unable to parse character 0x20 in g0=51 g1=69\n",
      "Unable to parse character 0x20 in g0=51 g1=69\n",
      "Unable to parse character 0x20 in g0=51 g1=69\n",
      "Unable to parse character 0x20 in g0=51 g1=69\n",
      "Unable to parse character 0x20 in g0=51 g1=69\n"
     ]
    },
    {
     "name": "stdout",
     "output_type": "stream",
     "text": [
      "001 : 1577163\n",
      "008 : 1886384\n",
      "245 : 1886102\n",
      "260 : 1885153\n",
      "773 : 1886625\n",
      "907 : 1886384\n",
      "998 : 1886384\n",
      "944 : 1780372\n",
      "941 : 1780372\n",
      "959 : 1577155\n",
      "650 : 3873316\n",
      "948 : 34446\n",
      "100 : 7\n",
      "600 : 9\n",
      "540 : 15\n",
      "250 : 5\n",
      "658 : 1\n",
      "775 : 28\n",
      "007 : 2\n",
      "733 : 3\n",
      "700 : 1\n",
      "730 : 5\n",
      "490 : 1\n",
      "770 : 3\n",
      "655 : 1\n",
      "1886384 total records\n"
     ]
    }
   ],
   "source": [
    "# marc file stats\n",
    "# https://gist.github.com/anarchivist/262826\n",
    "\n",
    "import pymarc \n",
    "import sys\n",
    "\n",
    "stats = {}\n",
    "\n",
    "def tally(r):\n",
    "    for f in r.fields:\n",
    "        stats[f.tag] = stats.get(f.tag, 0) + 1\n",
    "\n",
    "records = 0\n",
    "with open('full-export.out', 'rb') as fh:\n",
    "    reader = MARCReader(fh)\n",
    "    for r in reader:\n",
    "        records+=1\n",
    "        tally(r)\n",
    "# for filename in sys.argv[1:]:\n",
    "#     for r in pymarc.MARCReader(''):\n",
    "#         records += 1\n",
    "#         tally(r)\n",
    "\n",
    "#pymarc.map_xml(get_stats, *sys.argv[1:])\n",
    "\n",
    "for e in stats:\n",
    "    print(\"%s : %s\" % (e, stats[e]))\n",
    "\n",
    "print(\"%s total records\" % records)"
   ]
  },
  {
   "cell_type": "code",
   "execution_count": 15,
   "id": "057a8e9f-3f46-4050-810e-e18612dce4c7",
   "metadata": {},
   "outputs": [
    {
     "name": "stdout",
     "output_type": "stream",
     "text": [
      "=001  NEWS-242\n",
      "=008  \\\\\\\\\\\\\\\\\\\\\\\\\\\\\\\\\\\\\\\\\\\\\\\\\\\\\\\\\\\\\\\\\\\\\\\\\\\\\\\\\n",
      "=245  \\\\$aGift Shop Nucleus For Cincinnati-Russia Connection\n",
      "=260  \\\\$c1989\n",
      "=650  \\\\$aRussia Connection\n",
      "=650  \\\\$aSister Cities Association Of Greater Cincinnati\n",
      "=773  \\\\$aPost$g12/19/1989 N6:1\n",
      "=907  \\\\$a.b10031042$b10-03-12$c08-31-12\n",
      "=998  \\\\$a2ma$b07-23-04$cm$d9$e-$feng$h0\n",
      "=944  \\\\$a102\n",
      "=941  \\\\$a20040723$b0$cBATCH$d0\n",
      "=959  \\\\$aNewspaper Article$mMAIN$tMICROFILM$lMAGSTACKS$xMICROFORM$rN$sY$p$0.00\n"
     ]
    }
   ],
   "source": [
    "for f in record.fields:\n",
    "    print(f)"
   ]
  },
  {
   "cell_type": "code",
   "execution_count": 78,
   "id": "4659ced0-d58d-40d4-a1c2-f5161508476e",
   "metadata": {},
   "outputs": [
    {
     "data": {
      "text/plain": [
       "[['a', '.b10030098', 'b', '10-03-12', 'c', '08-31-12']]"
      ]
     },
     "execution_count": 78,
     "metadata": {},
     "output_type": "execute_result"
    }
   ],
   "source": [
    "[field.subfields for field in record.fields if field.tag == '907']"
   ]
  },
  {
   "cell_type": "code",
   "execution_count": 92,
   "id": "1524c973-3ddd-4add-9961-5083e0fc3a8d",
   "metadata": {},
   "outputs": [
    {
     "name": "stdout",
     "output_type": "stream",
     "text": [
      "http://newsdex.chpl.org/search?/.b1003009/.b1003009/1%2C1%2C1%2CB/marc~b1003009 \n",
      "bib_record_num: .b10030098 \n",
      "last_update: 10-03-12 \n",
      "create_date: 08-31-12 \n",
      "\n"
     ]
    }
   ],
   "source": [
    "print(\n",
    "    'http://newsdex.chpl.org/search?/.b1003009/.b1003009/1%2C1%2C1%2CB/marc~b1003009 \\n'\n",
    "    f\"bib_record_num: {record['907']['a']} \\n\",\n",
    "    f\"last_update: {record['907']['b']} \\n\",\n",
    "    f\"create_date: {record['907']['c']} \\n\",\n",
    "    sep=''\n",
    ")\n",
    "    "
   ]
  },
  {
   "cell_type": "code",
   "execution_count": null,
   "id": "ae953d8b-5c0f-487c-9a68-bffb341fe6ef",
   "metadata": {},
   "outputs": [],
   "source": [
    "# marc2csv example\n",
    "# https://gist.github.com/mmccollow/348178\n"
   ]
  }
 ],
 "metadata": {
  "kernelspec": {
   "display_name": "Python 3 (ipykernel)",
   "language": "python",
   "name": "python3"
  },
  "language_info": {
   "codemirror_mode": {
    "name": "ipython",
    "version": 3
   },
   "file_extension": ".py",
   "mimetype": "text/x-python",
   "name": "python",
   "nbconvert_exporter": "python",
   "pygments_lexer": "ipython3",
   "version": "3.10.6"
  }
 },
 "nbformat": 4,
 "nbformat_minor": 5
}
